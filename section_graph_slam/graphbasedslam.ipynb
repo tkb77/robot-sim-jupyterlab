{
 "cells": [
  {
   "cell_type": "code",
   "execution_count": 25,
   "id": "374b4828-50f6-4cd8-a6ab-62e71521b484",
   "metadata": {},
   "outputs": [],
   "source": [
    "import sys\n",
    "sys.path.append('../scripts/')\n",
    "from kf import *"
   ]
  },
  {
   "cell_type": "code",
   "execution_count": 38,
   "id": "94f1f81b-5527-4511-a7bb-93915fb75313",
   "metadata": {},
   "outputs": [],
   "source": [
    "def make_ax(): #axisの準備\n",
    "    fig = plt.figure(figsize=(4,4))\n",
    "    ax = fig.add_subplot(111)\n",
    "    ax.set_aspect('equal')\n",
    "    ax.set_xlim(-5,5)\n",
    "    ax.set_ylim(-5,5)\n",
    "    ax.set_xlabel(\"X\",fontsize=10)\n",
    "    ax.set_ylabel(\"Y\",fontsize=10)\n",
    "    return ax\n",
    "\n",
    "def draw_trajectory(xs, ax): #軌跡の描画\n",
    "    poses = [xs[s] for s in range(len(xs))]\n",
    "    ax.scatter([e[0] for e in poses], [e[1] for e in poses], s=5, marker=\".\", color=\"black\")\n",
    "    ax.plot([e[0] for e in poses], [e[1] for e in poses], linewidth=0.5, color=\"black\")\n",
    "\n",
    "def draw_observations(xs, zlist, ax): #センサ値の描画\n",
    "    for s in range(len(xs)):\n",
    "        if s not in zlist:\n",
    "            continue\n",
    "\n",
    "        for obs in zlist[s]:\n",
    "            x, y, theta = xs[s]\n",
    "            ell, phi = obs[1][0], obs[1][1]\n",
    "            mx = x + ell*math.cos(theta + phi)\n",
    "            my = y + ell*math.sin(theta + phi)\n",
    "            ax.plot([x,mx], [y,my], color=\"pink\", alpha=0.5)\n",
    "            \n",
    "def draw_edges(edges, ax): ###graphbasedslam2draw\n",
    "    for e in edges:\n",
    "        ax.plot([e.x1[0], e.x2[0]], [e.x1[1] ,e.x2[1]], color=\"red\", alpha=0.5)\n",
    "\n",
    "def draw(xs, zlist, edges):\n",
    "    ax = make_ax()\n",
    "    draw_observations(xs, zlist, ax)\n",
    "    #draw_edges(edges, ax)\n",
    "    draw_trajectory(xs, ax)\n",
    "    plt.show()"
   ]
  },
  {
   "cell_type": "code",
   "execution_count": 39,
   "id": "26be34b6-01bc-428c-81a8-98baffdbbac2",
   "metadata": {},
   "outputs": [],
   "source": [
    "def read_data():#データの読み込み\n",
    "    hat_xs = {}     #軌跡のデータ（ステップ数をキーにして姿勢を保存）\n",
    "    zlist = {} #センサ値のデータ（ステップ数をキーにして、さらにその中にランドマークのIDとセンサ値をタプルで保存）\n",
    "\n",
    "    with open(\"log.txt\") as f:\n",
    "        for line in f.readlines():\n",
    "            tmp = line.rstrip().split()\n",
    "\n",
    "            step = int(tmp[1])\n",
    "            if tmp[0] == \"x\": #姿勢のレコードの場合\n",
    "                hat_xs[step] = np.array([float(tmp[2]), float(tmp[3]), float(tmp[4])]).T\n",
    "            elif tmp[0] == \"z\": #センサ値のレコードの場合\n",
    "                if step not in zlist:  #まだ辞書が空の時は空の辞書を作る\n",
    "                    zlist[step] = []\n",
    "                zlist[step].append((int(tmp[2]), np.array([float(tmp[3]), float(tmp[4]), float(tmp[5])]).T))\n",
    "                \n",
    "        return hat_xs, zlist"
   ]
  },
  {
   "cell_type": "code",
   "execution_count": 40,
   "id": "9b86866b-f05e-4898-b725-cb3fe0d08819",
   "metadata": {},
   "outputs": [],
   "source": [
    "class ObsEdge:\n",
    "    def __init__(self, t1, t2, z1, z2, xs, sensor_noise_rate=[0.14, 0.05, 0.05]):\n",
    "        assert z1[0] == z2[0] #ランドマークのIDが違ったら処理を止める\n",
    "\n",
    "        self.t1, self.t2 = t1, t2                   #時刻の記録\n",
    "        self.x1, self.x2 = xs[t1], xs[t2]    #各時刻の姿勢\n",
    "        self.z1, self.z2 = z1[1], z2[1]     #各時刻のセンサ値\n",
    "        \n",
    "        s1 = math.sin(self.x1[2] + self.z1[1])\n",
    "        c1 = math.cos(self.x1[2] + self.z1[1])\n",
    "        s2 = math.sin(self.x2[2] + self.z2[1])\n",
    "        c2 = math.cos(self.x2[2] + self.z2[1])\n",
    "        \n",
    "        ##残差の計算##\n",
    "        hat_e = self.x2 - self.x1 + np.array([\n",
    "            self.z2[0]*c2 - self.z1[0]*c1, \n",
    "            self.z2[0]*s2 - self.z1[0]*s1,\n",
    "            self.z2[1] - self.z2[2] - self.z1[1] + self.z1[2]\n",
    "        ])\n",
    "        while hat_e[2] >= math.pi: hat_e[2] -= math.pi*2\n",
    "        while hat_e[2] <  -math.pi: hat_e[2] += math.pi*2\n",
    "        \n",
    "        ##精度行列の作成##\n",
    "        Q1 = np.diag([(self.z1[0]*sensor_noise_rate[0])**2, sensor_noise_rate[1]**2, sensor_noise_rate[2]**2])\n",
    "        R1 = - np.array([[c1, -self.z1[0]*s1,  0],\n",
    "                                     [s1,   self.z1[0]*c1, 0],\n",
    "                                   [   0,                      1, -1]])\n",
    "        \n",
    "        Q2 = np.diag([(self.z2[0]*sensor_noise_rate[0])**2, sensor_noise_rate[1]**2, sensor_noise_rate[2]**2])\n",
    "        R2 = np.array([[c2, -self.z2[0]*s2, 0],\n",
    "                                  [s2, self.z2[0]*c2,   0],\n",
    "                                  [  0,                      1,  -1]])\n",
    "        \n",
    "        Sigma = R1.dot(Q1).dot(R1.T) + R2.dot(Q2).dot(R2.T)\n",
    "        Omega = np.linalg.inv(Sigma)\n",
    "        \n",
    "        ##大きな精度行列と係数ベクトルの各部分を計算##\n",
    "        B1 = - np.array([[1, 0, -self.z1[0]*s1],\n",
    "                                    [0, 1, self.z1[0]*c1],\n",
    "                                    [0, 0, 1]])\n",
    "        B2 = np.array([[1, 0,  -self.z2[0]*s2],\n",
    "                                   [0, 1,   self.z2[0]*c2],\n",
    "                                    [0, 0,  1]])\n",
    "        \n",
    "        self.omega_upperleft = B1.T.dot(Omega).dot(B1)\n",
    "        self.omega_upperright = B1.T.dot(Omega).dot(B2)\n",
    "        self.omega_bottomleft = B2.T.dot(Omega).dot(B1)\n",
    "        self.omega_bottomright = B2.T.dot(Omega).dot(B2)\n",
    "        \n",
    "        self.xi_upper = - B1.T.dot(Omega).dot(hat_e)\n",
    "        self.xi_bottom = - B2.T.dot(Omega).dot(hat_e)"
   ]
  },
  {
   "cell_type": "code",
   "execution_count": 41,
   "id": "b9616106-df69-4a1f-a9c3-b0b02222df33",
   "metadata": {},
   "outputs": [],
   "source": [
    "import itertools\n",
    "def make_edges(hat_xs, zlist):\n",
    "    landmark_keys_zlist = {} #ランドマークのIDをキーにして観測された時刻とセンサ値を記録 \n",
    "\n",
    "    for step in zlist:           #キーを時刻からランドマークのIDへ\n",
    "        for z in zlist[step]:\n",
    "            landmark_id = z[0]\n",
    "            if landmark_id not in landmark_keys_zlist: \n",
    "                landmark_keys_zlist[landmark_id] = []\n",
    "\n",
    "            landmark_keys_zlist[landmark_id].append((step, z))\n",
    "\n",
    "    edges = []\n",
    "    for landmark_id in landmark_keys_zlist:\n",
    "        step_pairs = list(itertools.combinations(landmark_keys_zlist[landmark_id], 2)) #時刻のペアを作成\n",
    "        edges += [ObsEdge(xz1[0], xz2[0], xz1[1], xz2[1], hat_xs) for xz1, xz2 in step_pairs]\n",
    "\n",
    "    return edges"
   ]
  },
  {
   "cell_type": "code",
   "execution_count": 42,
   "id": "9cca94eb-9cf2-45f4-808b-1e69a9a357d4",
   "metadata": {},
   "outputs": [],
   "source": [
    "def add_edge(edge, Omega, xi):\n",
    "    f1, f2 = edge.t1*3, edge.t2*3\n",
    "    t1 ,t2 = f1 + 3, f2 + 3\n",
    "    Omega[f1:t1, f1:t1] += edge.omega_upperleft\n",
    "    Omega[f1:t1, f2:t2] += edge.omega_upperright\n",
    "    Omega[f2:t2, f1:t1] += edge.omega_bottomleft\n",
    "    Omega[f2:t2, f2:t2] += edge.omega_bottomright\n",
    "    xi[f1:t1] += edge.xi_upper\n",
    "    xi[f2:t2] += edge.xi_bottom"
   ]
  },
  {
   "cell_type": "code",
   "execution_count": 43,
   "id": "b7643dd3-6ef1-497d-9dd7-fd1f7d819c5e",
   "metadata": {},
   "outputs": [
    {
     "name": "stdout",
     "output_type": "stream",
     "text": [
      "1回目の繰り返し: 21.784706648051955\n",
      "2回目の繰り返し: 20.402725623917096\n",
      "3回目の繰り返し: 8.192758005392754\n",
      "4回目の繰り返し: 1.6635104036193675\n",
      "5回目の繰り返し: 0.559042888931715\n",
      "6回目の繰り返し: 0.20063868872928078\n",
      "7回目の繰り返し: 0.07317674202331707\n",
      "8回目の繰り返し: 0.027066259320760098\n",
      "9回目の繰り返し: 0.010328716514930426\n",
      "10回目の繰り返し: 0.004253012324126249\n"
     ]
    },
    {
     "data": {
      "image/png": "[encoded data removed]",
      "text/plain": [
       "<Figure size 288x288 with 1 Axes>"
      ]
     },
     "metadata": {
      "needs_background": "light"
     },
     "output_type": "display_data"
    }
   ],
   "source": [
    "%matplotlib inline\n",
    "hat_xs, zlist = read_data()\n",
    "dim = len(hat_xs)*3  #軌跡をつなげたベクトルの次元\n",
    "\n",
    "for n in range(1, 10000):  #繰り返しの回数は適当に大きな値にしておく（終了判定は別途下で）\n",
    "    ##エッジ、大きな精度行列、係数ベクトルの作成##\n",
    "    edges = make_edges(hat_xs, zlist) \n",
    "    Omega = np.zeros((dim, dim))\n",
    "    xi = np.zeros(dim)\n",
    "    Omega[0:3, 0:3] += np.eye(3)*1000000  #x0の固定\n",
    "\n",
    "    ##軌跡を動かす量（差分）の計算##\n",
    "    for e in edges:\n",
    "        add_edge(e, Omega, xi) #エッジの精度行列、係数ベクトルをOmega, xiに足す\n",
    "\n",
    "    delta_xs = np.linalg.inv(Omega).dot(xi) #求めた差分\n",
    "    \n",
    "    ##推定値の更新##\n",
    "    for i in range(len(hat_xs)):\n",
    "        hat_xs[i] += delta_xs[i*3:(i+1)*3]    #差分を足して新たな推定値を作る\n",
    "        \n",
    "    ##終了判定###\n",
    "    diff = np.linalg.norm(delta_xs)           #差分の大きさ（L2ノルム）を求める\n",
    "    print(\"{}回目の繰り返し: {}\".format(n, diff))\n",
    "    if diff < 0.01:                                        #閾値は調整する必要があるかもしれません\n",
    "        draw(hat_xs, zlist, edges) #収束したら描画。drawでdraw_edgesを呼び出している行はコメントアウトしておく\n",
    "        break"
   ]
  },
  {
   "cell_type": "code",
   "execution_count": null,
   "id": "2ff656fb-c08a-4f47-bf2a-9eb5086a8222",
   "metadata": {},
   "outputs": [],
   "source": []
  }
 ],
 "metadata": {
  "kernelspec": {
   "display_name": "Python 3 (ipykernel)",
   "language": "python",
   "name": "python3"
  },
  "language_info": {
   "codemirror_mode": {
    "name": "ipython",
    "version": 3
   },
   "file_extension": ".py",
   "mimetype": "text/x-python",
   "name": "python",
   "nbconvert_exporter": "python",
   "pygments_lexer": "ipython3",
   "version": "3.10.5"
  }
 },
 "nbformat": 4,
 "nbformat_minor": 5
}
