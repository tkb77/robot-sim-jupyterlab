{
 "cells": [
  {
   "cell_type": "code",
   "execution_count": 1,
   "id": "59a44ec9-0771-4ff8-bfb0-9e844f2fc7af",
   "metadata": {},
   "outputs": [],
   "source": [
    "import sys\n",
    "sys.path.append('../scripts/')\n",
    "from mcl import *"
   ]
  },
  {
   "cell_type": "code",
   "execution_count": 2,
   "id": "96362a7f-d9f8-4744-b89a-198a8a2470de",
   "metadata": {},
   "outputs": [],
   "source": [
    "class ResetMcl(Mcl): \n",
    "    def __init__(self, envmap, init_pose, num, motion_noise_stds={\"nn\":0.19, \"no\":0.001, \"on\":0.13, \"oo\":0.2}, \\\n",
    "                 distance_dev_rate=0.14, direction_dev=0.05):\n",
    "        super().__init__(envmap, init_pose, num, motion_noise_stds, distance_dev_rate, direction_dev)\n",
    "        self.alphas = {}  #α値の記録（ランドマークの観測数ごと）\n",
    "        \n",
    "    def observation_update(self, observation):\n",
    "        for p in self.particles:\n",
    "            p.observation_update(observation, self.map, self.distance_dev_rate, self.direction_dev) \n",
    "        \n",
    "        #alpha値の記録\n",
    "        alpha = sum([p.weight for p in self.particles])\n",
    "        obsnum = len(observation)\n",
    "        if not obsnum in self.alphas: self.alphas[obsnum] = []\n",
    "        self.alphas[obsnum].append(alpha)\n",
    "            \n",
    "        self.set_ml()\n",
    "        self.resampling() #ここで重みの合計は1になる"
   ]
  },
  {
   "cell_type": "code",
   "execution_count": null,
   "id": "522cfd31-072f-4bd2-a2ae-733d99285786",
   "metadata": {},
   "outputs": [],
   "source": [
    "time_interval = 0.1\n",
    "world = World(300, time_interval, debug=True) \n",
    "\n",
    "### 地図を生成して3つランドマークを追加 ###\n",
    "m = Map()                                  \n",
    "m.append_landmark(Landmark(-4,2))\n",
    "m.append_landmark(Landmark(2,-3))\n",
    "m.append_landmark(Landmark(3,3))\n",
    "world.append(m)          \n",
    "\n",
    "### ロボットを作る ###\n",
    "initial_pose = np.array([0, 0, 0]).T\n",
    "pf = ResetMcl(m, initial_pose, 100)\n",
    "circling = EstimationAgent(time_interval, 0.2, 10.0/180*math.pi, pf)\n",
    "r = Robot(initial_pose, sensor=Camera(m), agent=circling, color=\"red\")\n",
    "world.append(r)\n",
    "\n",
    "world.draw()\n"
   ]
  }
 ],
 "metadata": {
  "kernelspec": {
   "display_name": "Python 3 (ipykernel)",
   "language": "python",
   "name": "python3"
  },
  "language_info": {
   "codemirror_mode": {
    "name": "ipython",
    "version": 3
   },
   "file_extension": ".py",
   "mimetype": "text/x-python",
   "name": "python",
   "nbconvert_exporter": "python",
   "pygments_lexer": "ipython3",
   "version": "3.10.5"
  }
 },
 "nbformat": 4,
 "nbformat_minor": 5
}
